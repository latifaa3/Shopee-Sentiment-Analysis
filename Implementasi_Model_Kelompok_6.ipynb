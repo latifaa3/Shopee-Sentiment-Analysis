{
  "nbformat": 4,
  "nbformat_minor": 0,
  "metadata": {
    "colab": {
      "provenance": []
    },
    "kernelspec": {
      "name": "python3",
      "display_name": "Python 3"
    },
    "language_info": {
      "name": "python"
    }
  },
  "cells": [
    {
      "cell_type": "code",
      "source": [
        "# Library yang digunakan\n",
        "import pandas as pd\n",
        "import seaborn as sns\n",
        "import matplotlib.pyplot as plt\n",
        "from sklearn.feature_extraction.text import TfidfVectorizer\n",
        "from sklearn.naive_bayes import MultinomialNB\n",
        "from sklearn.metrics import accuracy_score, precision_score, recall_score, f1_score\n",
        "from sklearn.model_selection import train_test_split\n",
        "from sklearn.metrics import classification_report\n",
        "from sklearn.metrics import confusion_matrix\n",
        "from sklearn.model_selection import GridSearchCV\n",
        "from sklearn.feature_extraction.text import CountVectorizer"
      ],
      "metadata": {
        "id": "PkPTapc5rG5V"
      },
      "execution_count": null,
      "outputs": []
    },
    {
      "cell_type": "code",
      "execution_count": null,
      "metadata": {
        "colab": {
          "base_uri": "https://localhost:8080/",
          "height": 625
        },
        "id": "B0Zl4NQJYyDn",
        "outputId": "0c92db4f-7fc4-42cb-c4aa-4cc1c0735207"
      },
      "outputs": [
        {
          "output_type": "execute_result",
          "data": {
            "text/plain": [
              "                                             content  score    Label  \\\n",
              "0  Gimana sih orang shopee ini aplikasinya berat ...      1  Negatif   \n",
              "1  Dah bagus cuma sering ngelag aja kalo pencet k...      5  Positif   \n",
              "2  Kalo skr blanja di Shopee dikemasnya smpi 2 at...      5  Positif   \n",
              "3  Mau login aja di persulit sama sitem nya yang ...      1  Negatif   \n",
              "4  Aku beri bintang empat karena : Masa gabisa co...      4  Positif   \n",
              "\n",
              "                                          text_clean  \\\n",
              "0  gimana sih orang shopee ini aplikasinya berat ...   \n",
              "1  dah bagus cuma sering ngelag aja kalo pencet k...   \n",
              "2  kalo skr blanja di shopee dikemasnya smpi  ata...   \n",
              "3  mau login aja di persulit sama sitem nya yang ...   \n",
              "4  aku beri bintang empat karena  masa gabisa cod...   \n",
              "\n",
              "                                       text_StopWord  \\\n",
              "0  gimana sih orang shopee aplikasinya berat liha...   \n",
              "1  dah bagus ngelag aja kalo pencet keranjang kal...   \n",
              "2  kalo skr blanja shopee dikemasnya smpi haribel...   \n",
              "3  login aja persulit sitem nya gangguan wow memb...   \n",
              "4  bintang gabisa cod gabisa diantar ditempat mur...   \n",
              "\n",
              "                                         text_tokens  \\\n",
              "0  ['gimana', 'sih', 'orang', 'shopee', 'aplikasi...   \n",
              "1  ['dah', 'bagus', 'ngelag', 'aja', 'kalo', 'pen...   \n",
              "2  ['kalo', 'skr', 'blanja', 'shopee', 'dikemasny...   \n",
              "3  ['login', 'aja', 'persulit', 'sitem', 'nya', '...   \n",
              "4  ['bintang', 'gabisa', 'cod', 'gabisa', 'dianta...   \n",
              "\n",
              "                                      text_steamindo  \n",
              "0  gimana sih orang shopee aplikasi berat lihat l...  \n",
              "1  dah bagus ngelag aja kalo pencet keranjang kal...  \n",
              "2  kalo skr blanja shopee kemas smpi haribelum se...  \n",
              "3  login aja sulit sitem nya ganggu wow bantu edi...  \n",
              "4  bintang gabisa cod gabisa antar tempat murah g...  "
            ],
            "text/html": [
              "\n",
              "  <div id=\"df-34524d1d-a934-4518-8a2a-06bee280e7a1\" class=\"colab-df-container\">\n",
              "    <div>\n",
              "<style scoped>\n",
              "    .dataframe tbody tr th:only-of-type {\n",
              "        vertical-align: middle;\n",
              "    }\n",
              "\n",
              "    .dataframe tbody tr th {\n",
              "        vertical-align: top;\n",
              "    }\n",
              "\n",
              "    .dataframe thead th {\n",
              "        text-align: right;\n",
              "    }\n",
              "</style>\n",
              "<table border=\"1\" class=\"dataframe\">\n",
              "  <thead>\n",
              "    <tr style=\"text-align: right;\">\n",
              "      <th></th>\n",
              "      <th>content</th>\n",
              "      <th>score</th>\n",
              "      <th>Label</th>\n",
              "      <th>text_clean</th>\n",
              "      <th>text_StopWord</th>\n",
              "      <th>text_tokens</th>\n",
              "      <th>text_steamindo</th>\n",
              "    </tr>\n",
              "  </thead>\n",
              "  <tbody>\n",
              "    <tr>\n",
              "      <th>0</th>\n",
              "      <td>Gimana sih orang shopee ini aplikasinya berat ...</td>\n",
              "      <td>1</td>\n",
              "      <td>Negatif</td>\n",
              "      <td>gimana sih orang shopee ini aplikasinya berat ...</td>\n",
              "      <td>gimana sih orang shopee aplikasinya berat liha...</td>\n",
              "      <td>['gimana', 'sih', 'orang', 'shopee', 'aplikasi...</td>\n",
              "      <td>gimana sih orang shopee aplikasi berat lihat l...</td>\n",
              "    </tr>\n",
              "    <tr>\n",
              "      <th>1</th>\n",
              "      <td>Dah bagus cuma sering ngelag aja kalo pencet k...</td>\n",
              "      <td>5</td>\n",
              "      <td>Positif</td>\n",
              "      <td>dah bagus cuma sering ngelag aja kalo pencet k...</td>\n",
              "      <td>dah bagus ngelag aja kalo pencet keranjang kal...</td>\n",
              "      <td>['dah', 'bagus', 'ngelag', 'aja', 'kalo', 'pen...</td>\n",
              "      <td>dah bagus ngelag aja kalo pencet keranjang kal...</td>\n",
              "    </tr>\n",
              "    <tr>\n",
              "      <th>2</th>\n",
              "      <td>Kalo skr blanja di Shopee dikemasnya smpi 2 at...</td>\n",
              "      <td>5</td>\n",
              "      <td>Positif</td>\n",
              "      <td>kalo skr blanja di shopee dikemasnya smpi  ata...</td>\n",
              "      <td>kalo skr blanja shopee dikemasnya smpi haribel...</td>\n",
              "      <td>['kalo', 'skr', 'blanja', 'shopee', 'dikemasny...</td>\n",
              "      <td>kalo skr blanja shopee kemas smpi haribelum se...</td>\n",
              "    </tr>\n",
              "    <tr>\n",
              "      <th>3</th>\n",
              "      <td>Mau login aja di persulit sama sitem nya yang ...</td>\n",
              "      <td>1</td>\n",
              "      <td>Negatif</td>\n",
              "      <td>mau login aja di persulit sama sitem nya yang ...</td>\n",
              "      <td>login aja persulit sitem nya gangguan wow memb...</td>\n",
              "      <td>['login', 'aja', 'persulit', 'sitem', 'nya', '...</td>\n",
              "      <td>login aja sulit sitem nya ganggu wow bantu edi...</td>\n",
              "    </tr>\n",
              "    <tr>\n",
              "      <th>4</th>\n",
              "      <td>Aku beri bintang empat karena : Masa gabisa co...</td>\n",
              "      <td>4</td>\n",
              "      <td>Positif</td>\n",
              "      <td>aku beri bintang empat karena  masa gabisa cod...</td>\n",
              "      <td>bintang gabisa cod gabisa diantar ditempat mur...</td>\n",
              "      <td>['bintang', 'gabisa', 'cod', 'gabisa', 'dianta...</td>\n",
              "      <td>bintang gabisa cod gabisa antar tempat murah g...</td>\n",
              "    </tr>\n",
              "  </tbody>\n",
              "</table>\n",
              "</div>\n",
              "    <div class=\"colab-df-buttons\">\n",
              "\n",
              "  <div class=\"colab-df-container\">\n",
              "    <button class=\"colab-df-convert\" onclick=\"convertToInteractive('df-34524d1d-a934-4518-8a2a-06bee280e7a1')\"\n",
              "            title=\"Convert this dataframe to an interactive table.\"\n",
              "            style=\"display:none;\">\n",
              "\n",
              "  <svg xmlns=\"http://www.w3.org/2000/svg\" height=\"24px\" viewBox=\"0 -960 960 960\">\n",
              "    <path d=\"M120-120v-720h720v720H120Zm60-500h600v-160H180v160Zm220 220h160v-160H400v160Zm0 220h160v-160H400v160ZM180-400h160v-160H180v160Zm440 0h160v-160H620v160ZM180-180h160v-160H180v160Zm440 0h160v-160H620v160Z\"/>\n",
              "  </svg>\n",
              "    </button>\n",
              "\n",
              "  <style>\n",
              "    .colab-df-container {\n",
              "      display:flex;\n",
              "      gap: 12px;\n",
              "    }\n",
              "\n",
              "    .colab-df-convert {\n",
              "      background-color: #E8F0FE;\n",
              "      border: none;\n",
              "      border-radius: 50%;\n",
              "      cursor: pointer;\n",
              "      display: none;\n",
              "      fill: #1967D2;\n",
              "      height: 32px;\n",
              "      padding: 0 0 0 0;\n",
              "      width: 32px;\n",
              "    }\n",
              "\n",
              "    .colab-df-convert:hover {\n",
              "      background-color: #E2EBFA;\n",
              "      box-shadow: 0px 1px 2px rgba(60, 64, 67, 0.3), 0px 1px 3px 1px rgba(60, 64, 67, 0.15);\n",
              "      fill: #174EA6;\n",
              "    }\n",
              "\n",
              "    .colab-df-buttons div {\n",
              "      margin-bottom: 4px;\n",
              "    }\n",
              "\n",
              "    [theme=dark] .colab-df-convert {\n",
              "      background-color: #3B4455;\n",
              "      fill: #D2E3FC;\n",
              "    }\n",
              "\n",
              "    [theme=dark] .colab-df-convert:hover {\n",
              "      background-color: #434B5C;\n",
              "      box-shadow: 0px 1px 3px 1px rgba(0, 0, 0, 0.15);\n",
              "      filter: drop-shadow(0px 1px 2px rgba(0, 0, 0, 0.3));\n",
              "      fill: #FFFFFF;\n",
              "    }\n",
              "  </style>\n",
              "\n",
              "    <script>\n",
              "      const buttonEl =\n",
              "        document.querySelector('#df-34524d1d-a934-4518-8a2a-06bee280e7a1 button.colab-df-convert');\n",
              "      buttonEl.style.display =\n",
              "        google.colab.kernel.accessAllowed ? 'block' : 'none';\n",
              "\n",
              "      async function convertToInteractive(key) {\n",
              "        const element = document.querySelector('#df-34524d1d-a934-4518-8a2a-06bee280e7a1');\n",
              "        const dataTable =\n",
              "          await google.colab.kernel.invokeFunction('convertToInteractive',\n",
              "                                                    [key], {});\n",
              "        if (!dataTable) return;\n",
              "\n",
              "        const docLinkHtml = 'Like what you see? Visit the ' +\n",
              "          '<a target=\"_blank\" href=https://colab.research.google.com/notebooks/data_table.ipynb>data table notebook</a>'\n",
              "          + ' to learn more about interactive tables.';\n",
              "        element.innerHTML = '';\n",
              "        dataTable['output_type'] = 'display_data';\n",
              "        await google.colab.output.renderOutput(dataTable, element);\n",
              "        const docLink = document.createElement('div');\n",
              "        docLink.innerHTML = docLinkHtml;\n",
              "        element.appendChild(docLink);\n",
              "      }\n",
              "    </script>\n",
              "  </div>\n",
              "\n",
              "\n",
              "<div id=\"df-4ec7a8ad-9161-44c4-9486-c04f51dfa177\">\n",
              "  <button class=\"colab-df-quickchart\" onclick=\"quickchart('df-4ec7a8ad-9161-44c4-9486-c04f51dfa177')\"\n",
              "            title=\"Suggest charts\"\n",
              "            style=\"display:none;\">\n",
              "\n",
              "<svg xmlns=\"http://www.w3.org/2000/svg\" height=\"24px\"viewBox=\"0 0 24 24\"\n",
              "     width=\"24px\">\n",
              "    <g>\n",
              "        <path d=\"M19 3H5c-1.1 0-2 .9-2 2v14c0 1.1.9 2 2 2h14c1.1 0 2-.9 2-2V5c0-1.1-.9-2-2-2zM9 17H7v-7h2v7zm4 0h-2V7h2v10zm4 0h-2v-4h2v4z\"/>\n",
              "    </g>\n",
              "</svg>\n",
              "  </button>\n",
              "\n",
              "<style>\n",
              "  .colab-df-quickchart {\n",
              "      --bg-color: #E8F0FE;\n",
              "      --fill-color: #1967D2;\n",
              "      --hover-bg-color: #E2EBFA;\n",
              "      --hover-fill-color: #174EA6;\n",
              "      --disabled-fill-color: #AAA;\n",
              "      --disabled-bg-color: #DDD;\n",
              "  }\n",
              "\n",
              "  [theme=dark] .colab-df-quickchart {\n",
              "      --bg-color: #3B4455;\n",
              "      --fill-color: #D2E3FC;\n",
              "      --hover-bg-color: #434B5C;\n",
              "      --hover-fill-color: #FFFFFF;\n",
              "      --disabled-bg-color: #3B4455;\n",
              "      --disabled-fill-color: #666;\n",
              "  }\n",
              "\n",
              "  .colab-df-quickchart {\n",
              "    background-color: var(--bg-color);\n",
              "    border: none;\n",
              "    border-radius: 50%;\n",
              "    cursor: pointer;\n",
              "    display: none;\n",
              "    fill: var(--fill-color);\n",
              "    height: 32px;\n",
              "    padding: 0;\n",
              "    width: 32px;\n",
              "  }\n",
              "\n",
              "  .colab-df-quickchart:hover {\n",
              "    background-color: var(--hover-bg-color);\n",
              "    box-shadow: 0 1px 2px rgba(60, 64, 67, 0.3), 0 1px 3px 1px rgba(60, 64, 67, 0.15);\n",
              "    fill: var(--button-hover-fill-color);\n",
              "  }\n",
              "\n",
              "  .colab-df-quickchart-complete:disabled,\n",
              "  .colab-df-quickchart-complete:disabled:hover {\n",
              "    background-color: var(--disabled-bg-color);\n",
              "    fill: var(--disabled-fill-color);\n",
              "    box-shadow: none;\n",
              "  }\n",
              "\n",
              "  .colab-df-spinner {\n",
              "    border: 2px solid var(--fill-color);\n",
              "    border-color: transparent;\n",
              "    border-bottom-color: var(--fill-color);\n",
              "    animation:\n",
              "      spin 1s steps(1) infinite;\n",
              "  }\n",
              "\n",
              "  @keyframes spin {\n",
              "    0% {\n",
              "      border-color: transparent;\n",
              "      border-bottom-color: var(--fill-color);\n",
              "      border-left-color: var(--fill-color);\n",
              "    }\n",
              "    20% {\n",
              "      border-color: transparent;\n",
              "      border-left-color: var(--fill-color);\n",
              "      border-top-color: var(--fill-color);\n",
              "    }\n",
              "    30% {\n",
              "      border-color: transparent;\n",
              "      border-left-color: var(--fill-color);\n",
              "      border-top-color: var(--fill-color);\n",
              "      border-right-color: var(--fill-color);\n",
              "    }\n",
              "    40% {\n",
              "      border-color: transparent;\n",
              "      border-right-color: var(--fill-color);\n",
              "      border-top-color: var(--fill-color);\n",
              "    }\n",
              "    60% {\n",
              "      border-color: transparent;\n",
              "      border-right-color: var(--fill-color);\n",
              "    }\n",
              "    80% {\n",
              "      border-color: transparent;\n",
              "      border-right-color: var(--fill-color);\n",
              "      border-bottom-color: var(--fill-color);\n",
              "    }\n",
              "    90% {\n",
              "      border-color: transparent;\n",
              "      border-bottom-color: var(--fill-color);\n",
              "    }\n",
              "  }\n",
              "</style>\n",
              "\n",
              "  <script>\n",
              "    async function quickchart(key) {\n",
              "      const quickchartButtonEl =\n",
              "        document.querySelector('#' + key + ' button');\n",
              "      quickchartButtonEl.disabled = true;  // To prevent multiple clicks.\n",
              "      quickchartButtonEl.classList.add('colab-df-spinner');\n",
              "      try {\n",
              "        const charts = await google.colab.kernel.invokeFunction(\n",
              "            'suggestCharts', [key], {});\n",
              "      } catch (error) {\n",
              "        console.error('Error during call to suggestCharts:', error);\n",
              "      }\n",
              "      quickchartButtonEl.classList.remove('colab-df-spinner');\n",
              "      quickchartButtonEl.classList.add('colab-df-quickchart-complete');\n",
              "    }\n",
              "    (() => {\n",
              "      let quickchartButtonEl =\n",
              "        document.querySelector('#df-4ec7a8ad-9161-44c4-9486-c04f51dfa177 button');\n",
              "      quickchartButtonEl.style.display =\n",
              "        google.colab.kernel.accessAllowed ? 'block' : 'none';\n",
              "    })();\n",
              "  </script>\n",
              "</div>\n",
              "\n",
              "    </div>\n",
              "  </div>\n"
            ],
            "application/vnd.google.colaboratory.intrinsic+json": {
              "type": "dataframe",
              "variable_name": "df",
              "summary": "{\n  \"name\": \"df\",\n  \"rows\": 675,\n  \"fields\": [\n    {\n      \"column\": \"content\",\n      \"properties\": {\n        \"dtype\": \"string\",\n        \"num_unique_values\": 675,\n        \"samples\": [\n          \"Iklan lo meresahkan, lebih lebih dari iklan di tv di manapun, aplikasi manapun, video apa pun, di tv, di web site, kalau radio masih ada gua yakin di radio pun ada iklan lo, sopi pi pi pi \\ud83e\\udd26\",\n          \"Udah lama pake cuma satu aja yang ganjel dan kalo ada bakal mempermudah banget, minta tolong min buat Spaylater nya di kasih opsi buat cicil kayak Lazada gitu min sederhana cuma mempermudah banget soal nya kan kalo bisa di cicil begitu ada uang 100 atau 200 bisa tuh di cicil jadi pas mau jatuh tempo gak berat banget itu aja min kalo udah ada bintang 5 lah sama saya\",\n          \"Aplikasi nya sdh bagus hanya kalau pakai wifi dan tidak pernah erooor lagi. Tapi kalau pakai paket internet HP lemotnya poll. Sepertinya aplikasi ini masih perlu diperbaiki dan lebih diringankan lagi. Saya sdh lama dan dari awal jadi member Shopee, mau memberi masukan tapi sulitnya minta ampun di CS nya yg selalu masuk ke mesin penjawqb\"\n        ],\n        \"semantic_type\": \"\",\n        \"description\": \"\"\n      }\n    },\n    {\n      \"column\": \"score\",\n      \"properties\": {\n        \"dtype\": \"number\",\n        \"std\": 1,\n        \"min\": 1,\n        \"max\": 5,\n        \"num_unique_values\": 4,\n        \"samples\": [\n          5,\n          2,\n          1\n        ],\n        \"semantic_type\": \"\",\n        \"description\": \"\"\n      }\n    },\n    {\n      \"column\": \"Label\",\n      \"properties\": {\n        \"dtype\": \"category\",\n        \"num_unique_values\": 2,\n        \"samples\": [\n          \"Positif\",\n          \"Negatif\"\n        ],\n        \"semantic_type\": \"\",\n        \"description\": \"\"\n      }\n    },\n    {\n      \"column\": \"text_clean\",\n      \"properties\": {\n        \"dtype\": \"string\",\n        \"num_unique_values\": 675,\n        \"samples\": [\n          \"iklan lo meresahkan lebih lebih dari iklan di tv di manapun aplikasi manapun video apa pun di tv di web site kalau radio masih ada gua yakin di radio pun ada iklan lo sopi pi pi pi \",\n          \"udah lama pake cuma satu aja yang ganjel dan kalo ada bakal mempermudah banget minta tolong min buat spaylater nya di kasih opsi buat cicil kayak lazada gitu min sederhana cuma mempermudah banget soal nya kan kalo bisa di cicil begitu ada uang  atau  bisa tuh di cicil jadi pas mau jatuh tempo gak berat banget itu aja min kalo udah ada bintang  lah sama saya\"\n        ],\n        \"semantic_type\": \"\",\n        \"description\": \"\"\n      }\n    },\n    {\n      \"column\": \"text_StopWord\",\n      \"properties\": {\n        \"dtype\": \"string\",\n        \"num_unique_values\": 674,\n        \"samples\": [\n          \"yaampuuuun shoopeee shoopeee update kek gini lola bgt sinyal full gambarnya gak muncul apk nya berat\",\n          \"udah pake aja ganjel kalo mempermudah banget tolong min spaylater nya kasih opsi cicil kayak lazada gitu min sederhana mempermudah banget nya kalo cicil uang tuh cicil pas jatuh tempo gak berat banget aja min kalo udah bintang\"\n        ],\n        \"semantic_type\": \"\",\n        \"description\": \"\"\n      }\n    },\n    {\n      \"column\": \"text_tokens\",\n      \"properties\": {\n        \"dtype\": \"string\",\n        \"num_unique_values\": 674,\n        \"samples\": [\n          \"['yaampuuuun', 'shoopeee', 'shoopeee', 'update', 'kek', 'gini', 'lola', 'bgt', 'sinyal', 'full', 'gambarnya', 'gak', 'muncul', 'apk', 'nya', 'berat']\",\n          \"['udah', 'pake', 'aja', 'ganjel', 'kalo', 'mempermudah', 'banget', 'tolong', 'min', 'spaylater', 'nya', 'kasih', 'opsi', 'cicil', 'kayak', 'lazada', 'gitu', 'min', 'sederhana', 'mempermudah', 'banget', 'nya', 'kalo', 'cicil', 'uang', 'tuh', 'cicil', 'pas', 'jatuh', 'tempo', 'gak', 'berat', 'banget', 'aja', 'min', 'kalo', 'udah', 'bintang']\"\n        ],\n        \"semantic_type\": \"\",\n        \"description\": \"\"\n      }\n    },\n    {\n      \"column\": \"text_steamindo\",\n      \"properties\": {\n        \"dtype\": \"string\",\n        \"num_unique_values\": 674,\n        \"samples\": [\n          \"yaampuuuun shoopeee shoopeee update kek gin lola bgt sinyal full gambar gak muncul apk nya berat\",\n          \"udah pake aja ganjel kalo mudah banget tolong min spaylater nya kasih opsi cicil kayak lazada gitu min sederhana mudah banget nya kalo cicil uang tuh cicil pas jatuh tempo gak berat banget aja min kalo udah bintang\"\n        ],\n        \"semantic_type\": \"\",\n        \"description\": \"\"\n      }\n    }\n  ]\n}"
            }
          },
          "metadata": {},
          "execution_count": 3
        }
      ],
      "source": [
        "# Load the data\n",
        "df = pd.read_csv(\"hasil_TextPreProcessing_shopee.csv\")\n",
        "df.head()"
      ]
    },
    {
      "cell_type": "code",
      "source": [
        "# Menghitung jumlah label positif dan negatif\n",
        "positif_count = (df['Label'] == 'Positif').sum()\n",
        "negatif_count = (df['Label'] == 'Negatif').sum()\n",
        "\n",
        "# Menampilkan hasil\n",
        "print(f\"Jumlah label positif: {positif_count}\")\n",
        "print(f\"Jumlah label negatif: {negatif_count}\")"
      ],
      "metadata": {
        "colab": {
          "base_uri": "https://localhost:8080/"
        },
        "id": "Wg3pttvCmM_I",
        "outputId": "1c7daef1-58af-407a-87f1-f620cbe9e4a2"
      },
      "execution_count": null,
      "outputs": [
        {
          "output_type": "stream",
          "name": "stdout",
          "text": [
            "Jumlah label positif: 280\n",
            "Jumlah label negatif: 395\n"
          ]
        }
      ]
    },
    {
      "cell_type": "code",
      "source": [
        "# Menampilkan hasil dalam bentuk plot\n",
        "labels = ['Positif', 'Negatif']\n",
        "counts = [positif_count, negatif_count]\n",
        "\n",
        "plt.bar(labels, counts, color=['blue', 'red'])\n",
        "plt.xlabel('Label')\n",
        "plt.ylabel('Jumlah')\n",
        "plt.title('Jumlah Label Positif dan Negatif')\n",
        "plt.show()"
      ],
      "metadata": {
        "colab": {
          "base_uri": "https://localhost:8080/",
          "height": 472
        },
        "id": "gtvLKVW5mhGA",
        "outputId": "3bee4ca3-803b-474f-9f00-4d915201b850"
      },
      "execution_count": null,
      "outputs": [
        {
          "output_type": "display_data",
          "data": {
            "text/plain": [
              "<Figure size 640x480 with 1 Axes>"
            ],
            "image/png": "[encoded data removed]"
          },
          "metadata": {}
        }
      ]
    },
    {
      "cell_type": "code",
      "source": [
        "# Split the data into training and testing sets\n",
        "X_train, X_test, y_train, y_test = train_test_split(df['content'], df['Label'], test_size=0.2, random_state=42)"
      ],
      "metadata": {
        "id": "qXiwn4f6rllZ"
      },
      "execution_count": null,
      "outputs": []
    },
    {
      "cell_type": "code",
      "source": [
        "# Create a TF-IDF vectorizer\n",
        "vectorizer = TfidfVectorizer(stop_words='english')\n",
        "\n",
        "# Fit the vectorizer to the training data and transform both the training and testing data\n",
        "X_train_tfidf = vectorizer.fit_transform(X_train)\n",
        "X_test_tfidf = vectorizer.transform(X_test)"
      ],
      "metadata": {
        "id": "jcmvlxc4rp7m"
      },
      "execution_count": null,
      "outputs": []
    },
    {
      "cell_type": "code",
      "source": [
        "print(X_train.shape)\n",
        "print(y_train.shape)\n",
        "print(X_test.shape)\n",
        "print(y_test.shape)"
      ],
      "metadata": {
        "colab": {
          "base_uri": "https://localhost:8080/"
        },
        "id": "KoQAAQuKzJlU",
        "outputId": "87b149d4-c96f-4aef-c53f-28c1b454c9d6"
      },
      "execution_count": null,
      "outputs": [
        {
          "output_type": "stream",
          "name": "stdout",
          "text": [
            "(540,)\n",
            "(540,)\n",
            "(135,)\n",
            "(135,)\n"
          ]
        }
      ]
    },
    {
      "cell_type": "code",
      "source": [
        "# Define the Naive Bayes model\n",
        "nb = MultinomialNB()\n",
        "\n",
        "# Define the hyperparameter tuning space\n",
        "param_grid = {'alpha': [0.1, 0.5, 1, 5, 10]}\n",
        "\n",
        "# Perform hyperparameter tuning using GridSearchCV\n",
        "grid_search = GridSearchCV(nb, param_grid, cv=5, scoring='accuracy')\n",
        "grid_search.fit(X_train_tfidf, y_train)\n",
        "\n",
        "# Get the best-performing model and its hyperparameters\n",
        "best_nb = grid_search.best_estimator_\n",
        "best_alpha = grid_search.best_params_['alpha']"
      ],
      "metadata": {
        "id": "DicM-h18Nkfl"
      },
      "execution_count": null,
      "outputs": []
    },
    {
      "cell_type": "code",
      "source": [
        "# Evaluate the best-performing model on the testing data\n",
        "y_pred = best_nb.predict(X_test_tfidf)\n",
        "\n",
        "print(\"Accuracy:\", accuracy_score(y_test, y_pred))\n",
        "print(\"Precision:\", precision_score(y_test, y_pred, average=\"binary\", pos_label=\"Negatif\"))\n",
        "print(\"Recall:\", recall_score(y_test, y_pred, average=\"binary\", pos_label=\"Negatif\"))\n",
        "print(\"F1_score:\", f1_score(y_test, y_pred, average=\"binary\", pos_label=\"Negatif\"))\n",
        "\n",
        "print(f'Confusion Matrix:\\n {confusion_matrix(y_test, y_pred)}')\n",
        "print('====================================================\\n')\n",
        "\n",
        "print(\"Classification Report:\")\n",
        "print(classification_report(y_test, y_pred, zero_division=0))"
      ],
      "metadata": {
        "colab": {
          "base_uri": "https://localhost:8080/"
        },
        "id": "nLltSY6XrxIq",
        "outputId": "bba20147-cafa-4317-8224-42ed1550c8cb"
      },
      "execution_count": null,
      "outputs": [
        {
          "output_type": "stream",
          "name": "stdout",
          "text": [
            "Accuracy: 0.8074074074074075\n",
            "Precision: 0.8\n",
            "Recall: 0.9156626506024096\n",
            "F1_score: 0.8539325842696628\n",
            "Confusion Matrix:\n",
            " [[76  7]\n",
            " [19 33]]\n",
            "====================================================\n",
            "\n",
            "Classification Report:\n",
            "              precision    recall  f1-score   support\n",
            "\n",
            "     Negatif       0.80      0.92      0.85        83\n",
            "     Positif       0.82      0.63      0.72        52\n",
            "\n",
            "    accuracy                           0.81       135\n",
            "   macro avg       0.81      0.78      0.79       135\n",
            "weighted avg       0.81      0.81      0.80       135\n",
            "\n"
          ]
        }
      ]
    },
    {
      "cell_type": "code",
      "source": [
        "# Plot the heatmap of the confusion matrix\n",
        "\n",
        "cm = confusion_matrix(y_test, y_pred)\n",
        "plt.figure(figsize=(8, 6))\n",
        "sns.heatmap(cm, annot=True, cmap='Blues')\n",
        "plt.xlabel('Predicted labels')\n",
        "plt.ylabel('True labels')\n",
        "plt.title('Confusion Matrix')\n",
        "plt.show()"
      ],
      "metadata": {
        "colab": {
          "base_uri": "https://localhost:8080/",
          "height": 554
        },
        "id": "SvXf5pW8tIfm",
        "outputId": "1dd423db-9d33-409f-cd96-8515587114f2"
      },
      "execution_count": null,
      "outputs": [
        {
          "output_type": "display_data",
          "data": {
            "text/plain": [
              "<Figure size 800x600 with 2 Axes>"
            ],
            "image/png": "[encoded data removed]"
          },
          "metadata": {}
        }
      ]
    }
  ]
}